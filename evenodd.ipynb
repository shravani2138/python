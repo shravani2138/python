{
 "cells": [
  {
   "cell_type": "code",
   "execution_count": 2,
   "metadata": {},
   "outputs": [
    {
     "name": "stdout",
     "output_type": "stream",
     "text": [
      "enetr number6\n",
      "6 even number\n"
     ]
    }
   ],
   "source": [
    "#given number is even or odd \n",
    "a=int(input(\"enetr number\"))\n",
    "r=a%2\n",
    "if r==0:\n",
    "    print(a,\"even number\")\n",
    "elif r>0:\n",
    "    printf(a,\"odd number\")\n",
    "else:\n",
    "    printf(\"you enetr a number 0 or less than 0\")"
   ]
  },
  {
   "cell_type": "code",
   "execution_count": null,
   "metadata": {},
   "outputs": [],
   "source": []
  }
 ],
 "metadata": {
  "kernelspec": {
   "display_name": "Python 3",
   "language": "python",
   "name": "python3"
  },
  "language_info": {
   "codemirror_mode": {
    "name": "ipython",
    "version": 3
   },
   "file_extension": ".py",
   "mimetype": "text/x-python",
   "name": "python",
   "nbconvert_exporter": "python",
   "pygments_lexer": "ipython3",
   "version": "3.8.5"
  }
 },
 "nbformat": 4,
 "nbformat_minor": 4
}
